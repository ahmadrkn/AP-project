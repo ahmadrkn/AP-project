{
 "cells": [
  {
   "cell_type": "code",
   "execution_count": 43,
   "metadata": {},
   "outputs": [],
   "source": [
    "import pandas as pd\n",
    "import numpy as np\n",
    "import scipy.stats as stats\n",
    "from scipy.optimize import minimize\n",
    "from tqdm import tqdm\n",
    "import pandas_datareader as pdr\n",
    "import datetime\n",
    "from numpy.linalg import inv\n",
    "from math import sqrt"
   ]
  },
  {
   "cell_type": "code",
   "execution_count": 44,
   "metadata": {},
   "outputs": [],
   "source": [
    "start = datetime.datetime(2004, 1, 1)\n",
    "end = datetime.datetime.now()\n",
    "df = pdr.get_data_fred('DFF', start, end)\n",
    "df /= 100"
   ]
  },
  {
   "cell_type": "code",
   "execution_count": 45,
   "metadata": {},
   "outputs": [],
   "source": [
    "# Log likelihood function of the Hull-White model\n",
    "\n",
    "def hull_white(params, rates, dt):\n",
    "    a, b, sigma = params\n",
    "    n = len(rates)\n",
    "    mu = b + (rates[:-1] - b) * np.exp(-a * dt)\n",
    "    sigma_v = np.sqrt((sigma**2 / (2 * a)) * (1 - np.exp(-2 * a * dt)))\n",
    "    log_likelihood = -0.5 * np.sum(np.log(2 * np.pi * sigma_v**2) + ((rates[1:] - mu)**2 / sigma_v**2))\n",
    "    return -log_likelihood"
   ]
  },
  {
   "cell_type": "code",
   "execution_count": 46,
   "metadata": {},
   "outputs": [
    {
     "name": "stdout",
     "output_type": "stream",
     "text": [
      "Estimated a: 0.07223788500553713\n",
      "Estimated b: 0.045203819696213954\n",
      "Estimated sigma: 0.010676367496708188\n"
     ]
    }
   ],
   "source": [
    "rates = df.dropna().values\n",
    "dt = 1 / 360  # Assuming daily data; adjust accordingly if using different frequency\n",
    "\n",
    "# Initial parameter guesses (a, b, sigma)\n",
    "initial_params = [0.1, 0.1, 0.1]\n",
    "\n",
    "# Estimate the parameters using MLE\n",
    "result = minimize(hull_white, initial_params, bounds=[(1e-6, None), (None, None), (1e-6, None)], args=(rates, dt))\n",
    "a, b, sigma = result.x\n",
    "\n",
    "# Display estimated parameters\n",
    "print(f\"Estimated a: {a}\")\n",
    "print(f\"Estimated b: {b}\")\n",
    "print(f\"Estimated sigma: {sigma}\")"
   ]
  },
  {
   "cell_type": "code",
   "execution_count": 47,
   "metadata": {},
   "outputs": [
    {
     "name": "stdout",
     "output_type": "stream",
     "text": [
      "Parameter   Estimate       Std. Err.      T-stat\n",
      "a           0.072238        0.134898     0.53550\n",
      "b           0.045204        0.064555     0.70024\n",
      "sigma       0.010676        0.000087     122.86434\n"
     ]
    }
   ],
   "source": [
    "# Numerical approximation of the Hessian matrix and final estimation results display\n",
    "estimates = np.array([a, b, sigma])\n",
    "step = 1e-5 * estimates\n",
    "n_params = len(estimates)\n",
    "\n",
    "# Initialize the Hessian matrix\n",
    "H = np.zeros((n_params, n_params))\n",
    "\n",
    "# Compute the Hessian matrix using finite differences\n",
    "for i in range(n_params):\n",
    "    for j in range(n_params):\n",
    "        delta_i = np.zeros(n_params)\n",
    "        delta_j = np.zeros(n_params)\n",
    "        delta_i[i] = step[i]\n",
    "        delta_j[j] = step[j]\n",
    "        \n",
    "        f_ij = hull_white(estimates + delta_i + delta_j, rates, dt)\n",
    "        f_i_neg_j = hull_white(estimates + delta_i - delta_j, rates, dt)\n",
    "        f_neg_i_j = hull_white(estimates - delta_i + delta_j, rates, dt)\n",
    "        f_neg_i_neg_j = hull_white(estimates - delta_i - delta_j, rates, dt)\n",
    "        \n",
    "        H[i, j] = (f_ij - f_i_neg_j - f_neg_i_j + f_neg_i_neg_j) / (4 * step[i] * step[j])\n",
    "\n",
    "# Invert the Hessian matrix to get the variance-covariance matrix\n",
    "vcv = inv(H)\n",
    "\n",
    "# Extract standard errors\n",
    "std_err = np.sqrt(np.diag(vcv))\n",
    "\n",
    "# Compute t-statistics\n",
    "t_stats = estimates / std_err\n",
    "\n",
    "# Display results\n",
    "print('Parameter   Estimate       Std. Err.      T-stat')\n",
    "param = ['a', 'b', 'sigma']\n",
    "for i in range(n_params):\n",
    "    print('{0:<11} {1:>0.6f}        {2:0.6f}    {3: 0.5f}'.format(param[i],\n",
    "           estimates[i], std_err[i], t_stats[i]))"
   ]
  },
  {
   "cell_type": "code",
   "execution_count": 48,
   "metadata": {},
   "outputs": [
    {
     "name": "stdout",
     "output_type": "stream",
     "text": [
      "Bermudan Swaption Value: 0.0060520454072987475\n"
     ]
    }
   ],
   "source": [
    "# Parameters\n",
    "Zt0 = 0.987108812\n",
    "Zt1 = 0.97628571\n",
    "dt = 0.25\n",
    "n = 4\n",
    "r0 = (Zt0 / Zt1 - 1) / dt\n",
    "\n",
    "# Initialize the interest rate lattice (17 rows, 5 columns)\n",
    "lattice = np.zeros((17, n+1))\n",
    "lattice[8, 0] = r0\n",
    "\n",
    "# Function to evolve the rate (Hull-White / Vasicek model)\n",
    "def drt(a, b, r, dt, sigma, dW):\n",
    "    return a * (b - r) * dt + sigma * dW\n",
    "\n",
    "# Step size for rate changes\n",
    "dr_i = sigma * np.sqrt(3 * dt)\n",
    "\n",
    "# Build the interest rate lattice\n",
    "for i in range(1, n+1):\n",
    "    lattice[8, i] = lattice[8, i-1] * (1 - a * dt) + a * b * dt  # Central branch\n",
    "    for j in range(1, i+1):\n",
    "        # Up move (positive rates in upper rows)\n",
    "        lattice[8 - j, i] = lattice[8 - j + 1, i - 1] + dr_i\n",
    "        # Down move (negative rates in lower rows)\n",
    "        lattice[8 + j, i] = lattice[8 + j - 1, i - 1] - dr_i\n",
    "\n",
    "# Discount factor function\n",
    "def discount_factor(r, dt):\n",
    "    return np.exp(-r * dt)\n",
    "\n",
    "# Bermudan swaption parameters\n",
    "K = 0.055  # Fixed rate in the example\n",
    "tenor = 0.25  # Quarterly payment\n",
    "\n",
    "# Create a placeholder for Arrow-Debreu prices (we assume they're computed in backward induction)\n",
    "arrow_debreu_lattice = np.zeros_like(lattice)\n",
    "\n",
    "# Initialize the swaption value lattice\n",
    "bermudan_value = np.zeros_like(lattice)\n",
    "\n",
    "# Backward induction for Bermudan swaption pricing\n",
    "\n",
    "# Payoff at the last exercise date (n = 4)\n",
    "for j in range(-n, n+1, 2):  # Only even rows (symmetric moves)\n",
    "    row = 8 + j//2\n",
    "    r = lattice[row, n]\n",
    "    # Calculate the swap value S(t, omega) using the remaining swap value formula\n",
    "    remaining_swap_value = (K / 4) * (1 - discount_factor(r, tenor))  # Simplified swap value\n",
    "    bermudan_value[row, n] = max(remaining_swap_value, 0)  # Receiver swaption payoff\n",
    "\n",
    "# Perform backward induction for earlier time steps\n",
    "for t in range(n-1, -1, -1):  # Backward from time step n-1 to 0\n",
    "    for j in range(-t, t+1, 2):  # Iterate through all states\n",
    "        row = 8 + j//2\n",
    "        r = lattice[row, t]\n",
    "        \n",
    "        # Immediate exercise value at this node\n",
    "        remaining_swap_value = (K / 4) * (1 - discount_factor(r, tenor))\n",
    "        exercise_value = max(remaining_swap_value, 0)  # Payoff if exercised\n",
    "        \n",
    "        # Continuation value using backward induction with Arrow-Debreu prices\n",
    "        continuation_value = 0\n",
    "        for k in [-1, 0, 1]:  # Up, No move, Down moves\n",
    "            next_row = row + k\n",
    "            if 0 <= next_row < len(lattice):\n",
    "                ad_next = discount_factor(lattice[next_row, t+1], dt)  # Approximating AD prices as discount factor\n",
    "                bermudan_next = bermudan_value[next_row, t+1]\n",
    "                continuation_value += ad_next * bermudan_next\n",
    "        \n",
    "        # Bermudan option value is the maximum of immediate exercise or continuation value\n",
    "        bermudan_value[row, t] = max(exercise_value, continuation_value)\n",
    "\n",
    "# The value of the Bermudan swaption is at the initial node (Bermudan swaption value at t = 0)\n",
    "bermudan_swaption_value = bermudan_value[8, 0]\n",
    "print(f\"Bermudan Swaption Value: {bermudan_swaption_value}\")\n"
   ]
  },
  {
   "cell_type": "code",
   "execution_count": 49,
   "metadata": {},
   "outputs": [
    {
     "data": {
      "text/plain": [
       "array([[0.        , 0.        , 0.        , 0.        , 0.        ],\n",
       "       [0.        , 0.        , 0.        , 0.        , 0.        ],\n",
       "       [0.        , 0.        , 0.        , 0.        , 0.        ],\n",
       "       [0.        , 0.        , 0.        , 0.        , 0.        ],\n",
       "       [0.        , 0.        , 0.        , 0.        , 0.08132802],\n",
       "       [0.        , 0.        , 0.        , 0.07208201, 0.07209754],\n",
       "       [0.        , 0.        , 0.06283601, 0.06285153, 0.06286678],\n",
       "       [0.        , 0.05359   , 0.05360553, 0.05362078, 0.05363575],\n",
       "       [0.04434399, 0.04435952, 0.04437477, 0.04438974, 0.04440444],\n",
       "       [0.        , 0.03509799, 0.03511352, 0.03512876, 0.03514374],\n",
       "       [0.        , 0.        , 0.02585198, 0.02586751, 0.02588276],\n",
       "       [0.        , 0.        , 0.        , 0.01660598, 0.01662151],\n",
       "       [0.        , 0.        , 0.        , 0.        , 0.00735997],\n",
       "       [0.        , 0.        , 0.        , 0.        , 0.        ],\n",
       "       [0.        , 0.        , 0.        , 0.        , 0.        ],\n",
       "       [0.        , 0.        , 0.        , 0.        , 0.        ],\n",
       "       [0.        , 0.        , 0.        , 0.        , 0.        ]])"
      ]
     },
     "execution_count": 49,
     "metadata": {},
     "output_type": "execute_result"
    }
   ],
   "source": [
    "lattice"
   ]
  },
  {
   "cell_type": "code",
   "execution_count": null,
   "metadata": {},
   "outputs": [],
   "source": []
  }
 ],
 "metadata": {
  "kernelspec": {
   "display_name": "venv",
   "language": "python",
   "name": "python3"
  },
  "language_info": {
   "codemirror_mode": {
    "name": "ipython",
    "version": 3
   },
   "file_extension": ".py",
   "mimetype": "text/x-python",
   "name": "python",
   "nbconvert_exporter": "python",
   "pygments_lexer": "ipython3",
   "version": "3.11.4"
  }
 },
 "nbformat": 4,
 "nbformat_minor": 2
}
